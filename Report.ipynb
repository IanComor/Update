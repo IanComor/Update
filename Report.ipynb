{
 "cells": [
  {
   "cell_type": "markdown",
   "metadata": {},
   "source": [
    "## Report on Global Diffusion"
   ]
  },
  {
   "cell_type": "markdown",
   "metadata": {},
   "source": [
    "This report goes over the implementation and the results of the global diffusion process on benchmark datasets and the NAA29k dataset."
   ]
  },
  {
   "cell_type": "markdown",
   "metadata": {},
   "source": [
    "### Results"
   ]
  },
  {
   "cell_type": "markdown",
   "metadata": {},
   "source": [
    "The NAA29k_100 dataset was extracted with size 768. Oxford5k and Paris6k are whitened using each other's data."
   ]
  },
  {
   "cell_type": "markdown",
   "metadata": {},
   "source": [
    "|Dataset   |MaxPool|SumPool|RMAC|RMAC+Global Diffusion|\n",
    "|----------|-------|-------|----|---------------------|\n",
    "|Oxford5k  |48.3|61.0|62.7|**66.9**|\n",
    "|Paris6k   |58.6|66.8|75.1|**83.9**|\n",
    "|Holidays  |73.2|84.3|**86.5**|84.9|\n",
    "|NAA29k_100|27.1|**52.4**|41.2|43.4|"
   ]
  },
  {
   "cell_type": "markdown",
   "metadata": {},
   "source": [
    "In all cases the diffusion process begins by peaking mAP early, dipping, then converging to the closed-form solution. Below is the diffusion process of the Paris6k dataset with Mean Average Precision calculated at each iteration, and the closed-form solution mAP value represented as the horizontal line:"
   ]
  },
  {
   "cell_type": "markdown",
   "metadata": {},
   "source": [
    "![title](Paris6kIterations.png)"
   ]
  },
  {
   "cell_type": "markdown",
   "metadata": {},
   "source": [
    "## Discussion\n",
    "For Holidays, the RMAC features behave better without the diffusion process. I believe this is because there are fewer 'manifolds' because most of the images exist in small groups that are different from the rest.\n"
   ]
  }
 ],
 "metadata": {
  "kernelspec": {
   "display_name": "Python 3",
   "language": "python",
   "name": "python3"
  },
  "language_info": {
   "codemirror_mode": {
    "name": "ipython",
    "version": 3
   },
   "file_extension": ".py",
   "mimetype": "text/x-python",
   "name": "python",
   "nbconvert_exporter": "python",
   "pygments_lexer": "ipython3",
   "version": "3.6.7"
  }
 },
 "nbformat": 4,
 "nbformat_minor": 2
}
